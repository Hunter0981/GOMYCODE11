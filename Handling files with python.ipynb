{
 "cells": [
  {
   "cell_type": "code",
   "execution_count": null,
   "id": "2e532989",
   "metadata": {},
   "outputs": [],
   "source": [
    "1#\n",
    "def read_file(file_path):\n",
    "    with open(file_path, 'r') as file:\n",
    "        content = file.read()\n",
    "    return content\n",
    "\n",
    "# Example usage\n",
    "file_path = 'example.txt'\n",
    "content = read_file(file_path)\n",
    "print(content)\n",
    "2#\n",
    "def read_first_n_lines(file_path, n):\n",
    "    with open(file_path, 'r') as file:\n",
    "        lines = [next(file) for _ in range(n)]\n",
    "    return ''.join(lines)\n",
    "\n",
    "# Example usage\n",
    "file_path = 'example.txt'\n",
    "n = 3\n",
    "first_n_lines = read_first_n_lines(file_path, n)\n",
    "print(first_n_lines)\n",
    "\n",
    "3#\n",
    "def read_last_n_lines(file_path, n):\n",
    "    with open(file_path, 'r') as file:\n",
    "        lines = file.readlines()\n",
    "        last_n_lines = ''.join(lines[-n:])\n",
    "    return last_n_lines\n",
    "\n",
    "# Example usage\n",
    "file_path = 'example.txt'\n",
    "n = 2\n",
    "last_n_lines = read_last_n_lines(file_path, n)\n",
    "print(last_n_lines)\n",
    "\n",
    "4#\n",
    "def count_words(file_path):\n",
    "    with open(file_path, 'r') as file:\n",
    "        content = file.read()\n",
    "        words = content.split()\n",
    "    return len(words)\n",
    "\n",
    "# Example usage\n",
    "file_path = 'example.txt'\n",
    "word_count = count_words(file_path)\n",
    "print(f\"Number of words: {word_count}\")\n",
    "\n",
    "5#\n",
    "def read_last_n_lines(file_path, n):\n",
    "    with open(file_path, 'r') as file:\n",
    "        lines = file.readlines()\n",
    "        last_n_lines = lines[-n:]\n",
    "    return last_n_lines\n",
    "\n",
    "# Example usage\n",
    "file_path = 'example.txt'\n",
    "n = 2\n",
    "last_n_lines = read_last_n_lines(file_path, n)\n",
    "for line in last_n_lines:\n",
    "    print(line)\n",
    "\n",
    "\n"
   ]
  },
  {
   "cell_type": "code",
   "execution_count": null,
   "id": "46b9a98b",
   "metadata": {},
   "outputs": [],
   "source": [
    "\n"
   ]
  },
  {
   "cell_type": "code",
   "execution_count": null,
   "id": "6abd316b",
   "metadata": {},
   "outputs": [],
   "source": []
  },
  {
   "cell_type": "code",
   "execution_count": null,
   "id": "435fa44d",
   "metadata": {},
   "outputs": [],
   "source": []
  }
 ],
 "metadata": {
  "kernelspec": {
   "display_name": "Python 3 (ipykernel)",
   "language": "python",
   "name": "python3"
  },
  "language_info": {
   "codemirror_mode": {
    "name": "ipython",
    "version": 3
   },
   "file_extension": ".py",
   "mimetype": "text/x-python",
   "name": "python",
   "nbconvert_exporter": "python",
   "pygments_lexer": "ipython3",
   "version": "3.9.13"
  }
 },
 "nbformat": 4,
 "nbformat_minor": 5
}
